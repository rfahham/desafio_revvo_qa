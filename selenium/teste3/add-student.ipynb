{
 "cells": [
  {
   "cell_type": "markdown",
   "metadata": {},
   "source": [
    "# Inserir Estudante em um curso existente"
   ]
  },
  {
   "cell_type": "markdown",
   "metadata": {},
   "source": [
    "## Instalando Bibliotecas"
   ]
  },
  {
   "cell_type": "code",
   "execution_count": 74,
   "metadata": {},
   "outputs": [
    {
     "name": "stdout",
     "output_type": "stream",
     "text": [
      "Defaulting to user installation because normal site-packages is not writeable\n",
      "Requirement already satisfied: selenium in /usr/local/lib/python3.10/dist-packages (4.22.0)\n",
      "Requirement already satisfied: urllib3[socks]<3,>=1.26 in /usr/lib/python3/dist-packages (from selenium) (1.26.5)\n",
      "Requirement already satisfied: trio~=0.17 in /usr/local/lib/python3.10/dist-packages (from selenium) (0.26.0)\n",
      "Requirement already satisfied: typing_extensions>=4.9.0 in /usr/local/lib/python3.10/dist-packages (from selenium) (4.12.2)\n",
      "Requirement already satisfied: trio-websocket~=0.9 in /usr/local/lib/python3.10/dist-packages (from selenium) (0.11.1)\n",
      "Requirement already satisfied: certifi>=2021.10.8 in /usr/local/lib/python3.10/dist-packages (from selenium) (2024.7.4)\n",
      "Requirement already satisfied: websocket-client>=1.8.0 in /usr/local/lib/python3.10/dist-packages (from selenium) (1.8.0)\n",
      "Requirement already satisfied: exceptiongroup in /usr/local/lib/python3.10/dist-packages (from trio~=0.17->selenium) (1.2.2)\n",
      "Requirement already satisfied: sniffio>=1.3.0 in /usr/local/lib/python3.10/dist-packages (from trio~=0.17->selenium) (1.3.1)\n",
      "Requirement already satisfied: attrs>=23.2.0 in /usr/local/lib/python3.10/dist-packages (from trio~=0.17->selenium) (23.2.0)\n",
      "Requirement already satisfied: idna in /usr/lib/python3/dist-packages (from trio~=0.17->selenium) (3.3)\n",
      "Requirement already satisfied: outcome in /usr/local/lib/python3.10/dist-packages (from trio~=0.17->selenium) (1.3.0.post0)\n",
      "Requirement already satisfied: sortedcontainers in /usr/local/lib/python3.10/dist-packages (from trio~=0.17->selenium) (2.4.0)\n",
      "Requirement already satisfied: wsproto>=0.14 in /usr/local/lib/python3.10/dist-packages (from trio-websocket~=0.9->selenium) (1.2.0)\n",
      "Requirement already satisfied: PySocks!=1.5.7,<2.0,>=1.5.6 in /usr/local/lib/python3.10/dist-packages (from urllib3[socks]<3,>=1.26->selenium) (1.7.1)\n",
      "Requirement already satisfied: h11<1,>=0.9.0 in /usr/local/lib/python3.10/dist-packages (from wsproto>=0.14->trio-websocket~=0.9->selenium) (0.14.0)\n"
     ]
    }
   ],
   "source": [
    "! pip install selenium "
   ]
  },
  {
   "cell_type": "code",
   "execution_count": 75,
   "metadata": {},
   "outputs": [
    {
     "name": "stdout",
     "output_type": "stream",
     "text": [
      "Defaulting to user installation because normal site-packages is not writeable\n",
      "Requirement already satisfied: webdriver-manager in /usr/local/lib/python3.10/dist-packages (4.0.1)\n",
      "Requirement already satisfied: python-dotenv in /usr/local/lib/python3.10/dist-packages (from webdriver-manager) (1.0.1)\n",
      "Requirement already satisfied: requests in /usr/lib/python3/dist-packages (from webdriver-manager) (2.25.1)\n",
      "Requirement already satisfied: packaging in /usr/lib/python3/dist-packages (from webdriver-manager) (21.3)\n"
     ]
    }
   ],
   "source": [
    "! pip install webdriver-manager"
   ]
  },
  {
   "cell_type": "markdown",
   "metadata": {},
   "source": [
    "## Importando Bilbiotecas"
   ]
  },
  {
   "cell_type": "code",
   "execution_count": 76,
   "metadata": {},
   "outputs": [],
   "source": [
    "from time import sleep\n",
    "from selenium import webdriver\n",
    "from webdriver_manager.chrome import ChromeDriverManager\n",
    "from selenium.webdriver.chrome.service import Service\n",
    "from selenium.webdriver.common.by import By\n",
    "\n",
    "service = Service(ChromeDriverManager().install())\n",
    "navegador = webdriver.Chrome(service=service)"
   ]
  },
  {
   "cell_type": "markdown",
   "metadata": {},
   "source": [
    "## Fazendo o Login"
   ]
  },
  {
   "cell_type": "code",
   "execution_count": 77,
   "metadata": {},
   "outputs": [],
   "source": [
    "# Acesso a Curso de Moodle\n",
    "\n",
    "sleep(1)\n",
    "navegador.get('https://sandbox.moodledemo.net/login/index.php')\n",
    "sleep(1)\n",
    "# Usuário\n",
    "navegador.find_element('xpath', '//*[@id=\"username\"]').send_keys('admin')\n",
    "sleep(1)\n",
    "# Senha\n",
    "navegador.find_element('xpath', '//*[@id=\"password\"]').send_keys('sandbox')\n",
    "sleep(1)\n",
    "# Botão de Acesso\n",
    "navegador.find_element('xpath', '//*[@id=\"loginbtn\"]').click()\n",
    "sleep(1)"
   ]
  },
  {
   "cell_type": "markdown",
   "metadata": {},
   "source": [
    "## Selecionar o curso"
   ]
  },
  {
   "cell_type": "code",
   "execution_count": 78,
   "metadata": {},
   "outputs": [],
   "source": [
    "navegador.get('https://sandbox.moodledemo.net/')\n",
    "\n",
    "# Escolhendo o curso\n",
    "navegador.find_element('xpath', '//*[@id=\"frontpage-available-course-list\"]/div/div[2]/div[1]/h3/a').click()\n",
    "sleep(1)\n"
   ]
  },
  {
   "cell_type": "markdown",
   "metadata": {},
   "source": [
    "## Adicionar estudante no curso"
   ]
  },
  {
   "cell_type": "code",
   "execution_count": 105,
   "metadata": {},
   "outputs": [
    {
     "data": {
      "text/plain": [
       "'Skip to main content\\nSide panel\\nToggle search input\\nAU\\nEdit mode\\n  Open course index\\nOpen block drawer\\nMy second course\\nCourse\\nSettings\\nMore\\nParticipants tertiary navigation.\\nEnrolled users\\nFilter 1\\nMatch\\n                            None\\n                            Any\\n                            All\\n                         Filter type\\n                        Select\\n                        Keyword\\n                        Status\\n                        Roles\\n                        Enrolment methods\\n                        Inactive for more than\\n                       Add condition\\nClear filters\\nApply filters\\n1 participants found\\nFirst name\\nAll\\nA\\nB\\nC\\nD\\nE\\nF\\nG\\nH\\nI\\nJ\\nK\\nL\\nM\\nN\\nO\\nP\\nQ\\nR\\nS\\nT\\nU\\nV\\nW\\nX\\nY\\nZ\\nLast name\\nAll\\nA\\nB\\nC\\nD\\nE\\nF\\nG\\nH\\nI\\nJ\\nK\\nL\\nM\\nN\\nO\\nP\\nQ\\nR\\nS\\nT\\nU\\nV\\nW\\nX\\nY\\nZ\\nFirst name\\nSort by First name Ascending\\n/ Last name\\nRoles\\nGroups\\nLast access to course\\n\\nChoose...\\nSend a message\\nAdd a new note\\nComma separated values (.csv)\\nMicrosoft Excel (.xlsx)\\nHTML table\\nJavascript Object Notation (.json)\\nOpenDocument (.ods)\\nPortable Document Format (.pdf)\\nEdit selected user enrolments\\nDelete selected user enrolments\\nEdit selected user enrolments\\nDelete selected user enrolments'"
      ]
     },
     "execution_count": 105,
     "metadata": {},
     "output_type": "execute_result"
    }
   ],
   "source": [
    "navegador.get('https://sandbox.moodledemo.net/course/view.php?id=3')\n",
    "\n",
    "# Botão participantes\n",
    "\n",
    "navegador.find_elements(By.TAG_NAME, 'li')[8].text\n",
    "sleep(2)\n",
    "navegador.find_elements(By.TAG_NAME, 'li')[8].click()\n",
    "sleep(2)\n",
    "# Redireciona para a página de user\n",
    "\n",
    "navegador.get('https://sandbox.moodledemo.net/user/index.php?id=3')\n",
    "\n",
    "navegador.find_element('xpath', '//*[@id=\"enrolusersbutton-1\"]/div/input[1]').click()\n",
    "\n",
    "# Enrolment options\n",
    "navegador.find_elements(By.TAG_NAME, 'li')[1].text\n",
    "navegador.find_elements(By.TAG_NAME, 'div')[1].text\n",
    "\n",
    "# navegador.find_element('xpath', '//*[@id=\"form_autocomplete_input-1722177886105\"]').text\n",
    "\n"
   ]
  }
 ],
 "metadata": {
  "kernelspec": {
   "display_name": "Python 3",
   "language": "python",
   "name": "python3"
  },
  "language_info": {
   "codemirror_mode": {
    "name": "ipython",
    "version": 3
   },
   "file_extension": ".py",
   "mimetype": "text/x-python",
   "name": "python",
   "nbconvert_exporter": "python",
   "pygments_lexer": "ipython3",
   "version": "3.10.12"
  }
 },
 "nbformat": 4,
 "nbformat_minor": 2
}
