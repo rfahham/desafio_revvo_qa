{
 "cells": [
  {
   "cell_type": "markdown",
   "metadata": {},
   "source": [
    "# Criar curso preenchendo todos os campos \"REQUIRED\""
   ]
  },
  {
   "cell_type": "markdown",
   "metadata": {},
   "source": [
    "## Instalando Bibliotecas"
   ]
  },
  {
   "cell_type": "code",
   "execution_count": 1,
   "metadata": {},
   "outputs": [
    {
     "name": "stdout",
     "output_type": "stream",
     "text": [
      "Defaulting to user installation because normal site-packages is not writeable\n",
      "Requirement already satisfied: selenium in /usr/local/lib/python3.10/dist-packages (4.22.0)\n",
      "Requirement already satisfied: urllib3[socks]<3,>=1.26 in /usr/lib/python3/dist-packages (from selenium) (1.26.5)\n",
      "Requirement already satisfied: websocket-client>=1.8.0 in /usr/local/lib/python3.10/dist-packages (from selenium) (1.8.0)\n",
      "Requirement already satisfied: certifi>=2021.10.8 in /usr/local/lib/python3.10/dist-packages (from selenium) (2024.7.4)\n",
      "Requirement already satisfied: typing_extensions>=4.9.0 in /usr/local/lib/python3.10/dist-packages (from selenium) (4.12.2)\n",
      "Requirement already satisfied: trio~=0.17 in /usr/local/lib/python3.10/dist-packages (from selenium) (0.26.0)\n",
      "Requirement already satisfied: trio-websocket~=0.9 in /usr/local/lib/python3.10/dist-packages (from selenium) (0.11.1)\n",
      "Requirement already satisfied: attrs>=23.2.0 in /usr/local/lib/python3.10/dist-packages (from trio~=0.17->selenium) (23.2.0)\n",
      "Requirement already satisfied: idna in /usr/lib/python3/dist-packages (from trio~=0.17->selenium) (3.3)\n",
      "Requirement already satisfied: sortedcontainers in /usr/local/lib/python3.10/dist-packages (from trio~=0.17->selenium) (2.4.0)\n",
      "Requirement already satisfied: sniffio>=1.3.0 in /usr/local/lib/python3.10/dist-packages (from trio~=0.17->selenium) (1.3.1)\n",
      "Requirement already satisfied: outcome in /usr/local/lib/python3.10/dist-packages (from trio~=0.17->selenium) (1.3.0.post0)\n",
      "Requirement already satisfied: exceptiongroup in /usr/local/lib/python3.10/dist-packages (from trio~=0.17->selenium) (1.2.2)\n",
      "Requirement already satisfied: wsproto>=0.14 in /usr/local/lib/python3.10/dist-packages (from trio-websocket~=0.9->selenium) (1.2.0)\n",
      "Requirement already satisfied: PySocks!=1.5.7,<2.0,>=1.5.6 in /usr/local/lib/python3.10/dist-packages (from urllib3[socks]<3,>=1.26->selenium) (1.7.1)\n",
      "Requirement already satisfied: h11<1,>=0.9.0 in /usr/local/lib/python3.10/dist-packages (from wsproto>=0.14->trio-websocket~=0.9->selenium) (0.14.0)\n"
     ]
    }
   ],
   "source": [
    "! pip install selenium "
   ]
  },
  {
   "cell_type": "code",
   "execution_count": 2,
   "metadata": {},
   "outputs": [
    {
     "name": "stdout",
     "output_type": "stream",
     "text": [
      "Defaulting to user installation because normal site-packages is not writeable\n",
      "Requirement already satisfied: webdriver-manager in /usr/local/lib/python3.10/dist-packages (4.0.1)\n",
      "Requirement already satisfied: packaging in /usr/lib/python3/dist-packages (from webdriver-manager) (21.3)\n",
      "Requirement already satisfied: requests in /usr/lib/python3/dist-packages (from webdriver-manager) (2.25.1)\n",
      "Requirement already satisfied: python-dotenv in /usr/local/lib/python3.10/dist-packages (from webdriver-manager) (1.0.1)\n"
     ]
    }
   ],
   "source": [
    "! pip install webdriver-manager"
   ]
  },
  {
   "cell_type": "markdown",
   "metadata": {},
   "source": [
    "## Importando Bilbiotecas"
   ]
  },
  {
   "cell_type": "code",
   "execution_count": 3,
   "metadata": {},
   "outputs": [],
   "source": [
    "from time import sleep\n",
    "from selenium import webdriver\n",
    "from webdriver_manager.chrome import ChromeDriverManager\n",
    "from selenium.webdriver.chrome.service import Service\n",
    "from selenium.webdriver.common.by import By\n",
    "\n",
    "service = Service(ChromeDriverManager().install())\n",
    "navegador = webdriver.Chrome(service=service)"
   ]
  },
  {
   "cell_type": "markdown",
   "metadata": {},
   "source": [
    "## Fazendo o Login"
   ]
  },
  {
   "cell_type": "code",
   "execution_count": 4,
   "metadata": {},
   "outputs": [],
   "source": [
    "# Acesso a Curso de Moodle\n",
    "\n",
    "sleep(1)\n",
    "navegador.get('https://sandbox.moodledemo.net/login/index.php')\n",
    "sleep(1)\n",
    "# Usuário\n",
    "navegador.find_element('xpath', '//*[@id=\"username\"]').send_keys('admin')\n",
    "sleep(1)\n",
    "# Senha\n",
    "navegador.find_element('xpath', '//*[@id=\"password\"]').send_keys('sandbox')\n",
    "sleep(1)\n",
    "# Botão de Acesso\n",
    "navegador.find_element('xpath', '//*[@id=\"loginbtn\"]').click()\n",
    "sleep(1)"
   ]
  },
  {
   "cell_type": "markdown",
   "metadata": {},
   "source": [
    "## Acessar página My Courses"
   ]
  },
  {
   "cell_type": "code",
   "execution_count": 5,
   "metadata": {},
   "outputs": [],
   "source": [
    "navegador.get('https://sandbox.moodledemo.net/')\n",
    "\n",
    "navegador.find_elements(By.TAG_NAME, 'li')[2].click()"
   ]
  },
  {
   "cell_type": "markdown",
   "metadata": {},
   "source": [
    "## Acessar Create Course"
   ]
  },
  {
   "cell_type": "code",
   "execution_count": 6,
   "metadata": {},
   "outputs": [
    {
     "data": {
      "text/plain": [
       "<bound method WebElement.click of <selenium.webdriver.remote.webelement.WebElement (session=\"c1c8ac58d37c884f0ecd4a4e46145b15\", element=\"f.4A3D6FE2A2C0044912BCE6B9A8C4E75C.d.1065E391033BBADED95FD582C39BD22D.e.119\")>>"
      ]
     },
     "execution_count": 6,
     "metadata": {},
     "output_type": "execute_result"
    }
   ],
   "source": [
    "navegador.get('https://sandbox.moodledemo.net/my/courses.php')\n",
    "\n",
    "navegador.find_elements(By.TAG_NAME, 'button')[5].click"
   ]
  },
  {
   "cell_type": "markdown",
   "metadata": {},
   "source": [
    "## Add a new course"
   ]
  },
  {
   "cell_type": "code",
   "execution_count": 7,
   "metadata": {},
   "outputs": [],
   "source": [
    "navegador.get('https://sandbox.moodledemo.net/course/edit.php')\n",
    "\n",
    "# Course full name\n",
    "navegador.find_element('xpath', '//*[@id=\"id_fullname\"]').send_keys('Curso de Selenium')\n",
    "sleep(1)\n",
    "\n",
    "# Course short name\n",
    "navegador.find_element('xpath', '//*[@id=\"id_shortname\"]').send_keys('Selenium')\n",
    "sleep(1)\n",
    "\n",
    "# Course start date\n",
    "\n",
    "## Day\n",
    "navegador.find_element('xpath', '//*[@id=\"id_startdate_day\"]').send_keys('1')\n",
    "sleep(1)\n",
    "\n",
    "## Month\n",
    "navegador.find_element('xpath', '//*[@id=\"id_startdate_month\"]').send_keys('August')\n",
    "sleep(1)\n",
    "\n",
    "## Year\n",
    "# navegador.find_element('xpath', '//*[@id=\"id_startdate_year\"]').send_keys('2024')\n",
    "# sleep(1)\n",
    "\n",
    "# Course end date\n",
    "\n",
    "## Day\n",
    "navegador.find_element('xpath', '//*[@id=\"id_enddate_day\"]').send_keys('31')\n",
    "sleep(1)\n",
    "\n",
    "## Month\n",
    "navegador.find_element('xpath', '//*[@id=\"id_enddate_month\"]').send_keys('August')\n",
    "sleep(1)\n",
    "\n",
    "## Year\n",
    "# navegador.find_element('xpath', '//*[@id=\"id_endtdate_year\"]').send_keys('2024')\n",
    "# sleep(1)\n",
    "\n",
    "# Description\n",
    "# navegador.find_element('xpath', '//*[@id=\"tinymce\"]/p')[1].send_keys('Selenium')\n",
    "# navegador.find_elements(By.TAG_NAME, 'p')[1].text\n",
    "# sleep(1)\n",
    "\n",
    "\n",
    "\n",
    "navegador.find_element('xpath', '//*[@id=\"id_saveanddisplay\"]').click()\n",
    "sleep(5)\n"
   ]
  },
  {
   "cell_type": "markdown",
   "metadata": {},
   "source": [
    "## Fechando o Navegador"
   ]
  },
  {
   "cell_type": "code",
   "execution_count": 8,
   "metadata": {},
   "outputs": [],
   "source": [
    "navegador.quit()"
   ]
  }
 ],
 "metadata": {
  "kernelspec": {
   "display_name": "Python 3",
   "language": "python",
   "name": "python3"
  },
  "language_info": {
   "codemirror_mode": {
    "name": "ipython",
    "version": 3
   },
   "file_extension": ".py",
   "mimetype": "text/x-python",
   "name": "python",
   "nbconvert_exporter": "python",
   "pygments_lexer": "ipython3",
   "version": "3.10.12"
  }
 },
 "nbformat": 4,
 "nbformat_minor": 2
}
